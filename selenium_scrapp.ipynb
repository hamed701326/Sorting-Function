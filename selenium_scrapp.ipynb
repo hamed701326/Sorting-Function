{
 "cells": [
  {
   "cell_type": "code",
   "execution_count": 1,
   "metadata": {},
   "outputs": [],
   "source": [
    "from selenium import webdriver\n",
    "from selenium.webdriver.common.by import By\n",
    "from selenium.webdriver.common.keys import Keys\n",
    "import time\n",
    "from chromedriver_py import binary_path # this will get you the path variable\n",
    "\n",
    "svc = webdriver.ChromeService(executable_path=binary_path)\n",
    "driver = webdriver.Chrome(service=svc)\n"
   ]
  },
  {
   "cell_type": "code",
   "execution_count": 2,
   "metadata": {},
   "outputs": [],
   "source": [
    "# deprecated but works in older selenium versions\n",
    "# driver = webdriver.Chrome(executable_path=binary_path)\n",
    "# URL of the Amazon product reviews page\n",
    "url = 'https://www.amazon.com/Amazon-Essentials-Snap-Front-Pullover-Fleece/product-reviews/B0D1YJLHHV/ref=cm_cr_arp_d_paging_btm_prev_1?ie=UTF8&pageNumber=1&reviewerType=all_reviews'\n",
    "\n",
    "# Open the URL in the headless browser\n",
    "driver.get(url)\n",
    "\n",
    "# Wait for the page to fully load (adjust sleep time as needed)\n",
    "time.sleep(5)\n",
    "\n",
    "# Find all review elements on the page\n",
    "review_elements = driver.find_elements(By.XPATH, '//div[@data-hook=\"review\"]')"
   ]
  },
  {
   "cell_type": "code",
   "execution_count": 3,
   "metadata": {},
   "outputs": [],
   "source": [
    "review = review_elements[0]"
   ]
  },
  {
   "cell_type": "code",
   "execution_count": 12,
   "metadata": {},
   "outputs": [],
   "source": [
    "try:\n",
    "    helpful_votes_text = review_elements[0].find_element(By.XPATH, './/span[@data-hook=\"helpful-vote-statement\"]').text\n",
    "    helpful_votes = helpful_votes_text.split()[0]\n",
    "except:\n",
    "    helpful_votes = 0"
   ]
  },
  {
   "cell_type": "code",
   "execution_count": 42,
   "metadata": {},
   "outputs": [],
   "source": [
    "driver.quit()"
   ]
  },
  {
   "cell_type": "code",
   "execution_count": 13,
   "metadata": {},
   "outputs": [
    {
     "data": {
      "text/plain": [
       "0"
      ]
     },
     "execution_count": 13,
     "metadata": {},
     "output_type": "execute_result"
    }
   ],
   "source": [
    "helpful_votes"
   ]
  },
  {
   "cell_type": "code",
   "execution_count": null,
   "metadata": {},
   "outputs": [],
   "source": []
  }
 ],
 "metadata": {
  "kernelspec": {
   "display_name": "test",
   "language": "python",
   "name": "python3"
  },
  "language_info": {
   "codemirror_mode": {
    "name": "ipython",
    "version": 3
   },
   "file_extension": ".py",
   "mimetype": "text/x-python",
   "name": "python",
   "nbconvert_exporter": "python",
   "pygments_lexer": "ipython3",
   "version": "3.8.19"
  }
 },
 "nbformat": 4,
 "nbformat_minor": 2
}
